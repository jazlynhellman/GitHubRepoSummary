{
 "cells": [
  {
   "cell_type": "code",
   "execution_count": 36,
   "metadata": {},
   "outputs": [],
   "source": [
    "import spacy\n",
    "from spacy import displacy\n",
    "\n",
    "import en_core_web_sm\n",
    "nlp = en_core_web_sm.load()\n",
    "\n",
    "\n",
    "#from IPython.core.display import display, HTML\n",
    "\n",
    "import pandas as pd\n",
    "\n",
    "from pathlib import Path\n",
    "\n",
    "# from svglib.svglib import svg2rlg\n",
    "# from reportlab.graphics import renderPDF, renderPM"
   ]
  },
  {
   "cell_type": "code",
   "execution_count": 37,
   "metadata": {},
   "outputs": [],
   "source": [
    "sheet = pd.read_csv(\"validation_info_labeled.xlsb.csv\")"
   ]
  },
  {
   "cell_type": "code",
   "execution_count": 38,
   "metadata": {},
   "outputs": [
    {
     "name": "stdout",
     "output_type": "stream",
     "text": [
      "AgilTec/cadenero\n"
     ]
    }
   ],
   "source": [
    "repoNames = sheet['Repository']\n",
    "descriptions = sheet['Description']\n",
    "labels = sheet['New Description']\n",
    "readmes = sheet['ReadMe']\n",
    "\n",
    "print(repoNames[0])"
   ]
  },
  {
   "cell_type": "code",
   "execution_count": 53,
   "metadata": {},
   "outputs": [],
   "source": [
    "def getAllDependencies(descriptions, repoNames, folderName):\n",
    "\n",
    "    index = 0\n",
    "    for d in descriptions:\n",
    "        \n",
    "        if type(d) is float:\n",
    "            svg = None\n",
    "        else:\n",
    "            svg = getDependency(d, repoNames[index], folderName)\n",
    "        index+=1\n"
   ]
  },
  {
   "cell_type": "code",
   "execution_count": 61,
   "metadata": {},
   "outputs": [],
   "source": [
    "def getDependency(text, repoName, folderName):\n",
    "    doc = nlp(text)\n",
    "    \n",
    "    svg=displacy.render(doc, style=\"dep\", jupyter=False)\n",
    "    \n",
    "    \n",
    "    file_name = (repoName.replace(\"/\",\"_\"))+\".svg\"\n",
    "    \n",
    "    \n",
    "    output_path = Path(folderName+\"/\" + file_name)\n",
    "    output_path.open(\"w\", encoding=\"utf-8\").write(svg)"
   ]
  },
  {
   "cell_type": "code",
   "execution_count": 58,
   "metadata": {},
   "outputs": [],
   "source": [
    "#getAllDependencies(descriptions, repoNames, \"DependencyImages_validation\")"
   ]
  },
  {
   "cell_type": "code",
   "execution_count": 60,
   "metadata": {},
   "outputs": [],
   "source": [
    "#getAllDependencies(labels, repoNames, \"labelsDependencyImages_validation\")"
   ]
  },
  {
   "cell_type": "code",
   "execution_count": null,
   "metadata": {},
   "outputs": [],
   "source": []
  },
  {
   "cell_type": "code",
   "execution_count": null,
   "metadata": {},
   "outputs": [],
   "source": []
  }
 ],
 "metadata": {
  "kernelspec": {
   "display_name": "Python 3",
   "language": "python",
   "name": "python3"
  },
  "language_info": {
   "codemirror_mode": {
    "name": "ipython",
    "version": 3
   },
   "file_extension": ".py",
   "mimetype": "text/x-python",
   "name": "python",
   "nbconvert_exporter": "python",
   "pygments_lexer": "ipython3",
   "version": "3.7.3"
  }
 },
 "nbformat": 4,
 "nbformat_minor": 2
}
