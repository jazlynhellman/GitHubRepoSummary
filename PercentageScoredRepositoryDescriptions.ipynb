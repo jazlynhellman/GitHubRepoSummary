{
 "cells": [
  {
   "cell_type": "code",
   "execution_count": 56,
   "metadata": {},
   "outputs": [],
   "source": [
    "import pandas as pd\n",
    " \n",
    "# libraries\n",
    "import numpy as np\n",
    "import matplotlib.pyplot as plt\n",
    "from matplotlib import rc\n"
   ]
  },
  {
   "cell_type": "code",
   "execution_count": 2,
   "metadata": {},
   "outputs": [],
   "source": [
    "import csv"
   ]
  },
  {
   "cell_type": "code",
   "execution_count": 3,
   "metadata": {},
   "outputs": [],
   "source": [
    "def percent(number, whole):\n",
    "    return number/whole * 100"
   ]
  },
  {
   "cell_type": "code",
   "execution_count": 4,
   "metadata": {},
   "outputs": [],
   "source": [
    "def count(temp_df):\n",
    "    n = 0\n",
    "    z = 0\n",
    "    o = 0\n",
    "    t = 0\n",
    "  \n",
    "    for x in temp_df:\n",
    "        if x == str(0):\n",
    "            z+=1\n",
    "        elif x==str(1):\n",
    "            o+=1\n",
    "        elif x==str(2):\n",
    "            t+=1\n",
    "        else:\n",
    "            n+=1\n",
    "            \n",
    "    return n, z, o, t"
   ]
  },
  {
   "cell_type": "code",
   "execution_count": 5,
   "metadata": {},
   "outputs": [
    {
     "name": "stdout",
     "output_type": "stream",
     "text": [
      "no score: 7.042253521126761 %\n",
      "Zeros: 35.2112676056338 %\n",
      "Ones: 47.88732394366197 %\n",
      "Twos: 9.859154929577464 %\n"
     ]
    }
   ],
   "source": [
    "# Calculate percentage of scored initial descriptions\n",
    "\n",
    "filepath=\"repository_dataframe_rated.csv\"\n",
    "df = pd.read_csv(filepath, sep=',', error_bad_lines=False, index_col=False, dtype='unicode')\n",
    "\n",
    "\n",
    "df = df.head(71)\n",
    "\n",
    "df_score = df['Description - Init Rating (0, 1, 2): 0 = no description/fails all aspects of LSP test. 1 = fails at least 1 part of the LSP test. 2 = Satisfies LSP test']\n",
    "\n",
    "notInt, zeros, ones, twos  = count(df_score)\n",
    "\n",
    "percentNoScore = percent(notInt, df_score.shape[0])\n",
    "percentZeros = percent(zeros, df_score.shape[0])\n",
    "percentOnes = percent(ones, df_score.shape[0])\n",
    "percentTwos = percent(twos, df_score.shape[0])\n",
    "\n",
    "print(\"no score: \"+str(percentNoScore) + \" %\")\n",
    "print(\"Zeros: \"+str(percentZeros)+\" %\")\n",
    "print(\"Ones: \"+str(percentOnes)+\" %\")\n",
    "print(\"Twos: \"+str(percentTwos)+\" %\")"
   ]
  },
  {
   "cell_type": "code",
   "execution_count": null,
   "metadata": {},
   "outputs": [],
   "source": []
  },
  {
   "cell_type": "code",
   "execution_count": 140,
   "metadata": {},
   "outputs": [
    {
     "data": {
      "image/png": "[encoded data removed]",
      "text/plain": [
       "<Figure size 432x288 with 1 Axes>"
      ]
     },
     "metadata": {},
     "output_type": "display_data"
    }
   ],
   "source": [
    "# Pie chart, where the slices will be ordered and plotted counter-clockwise:\n",
    "labels = ['Repo Not in English', 'Score of 0', 'Score of 1', 'Score of 2']\n",
    "sizes = [7.042253521126761 , 35.2112676056338, 47.88732394366197, 9.859154929577464]\n",
    "explode = (0, 0, 0, 0.2) \n",
    "\n",
    "fig1, ax1 = plt.subplots()\n",
    "ax1.pie(sizes, explode=explode, labels=labels, autopct='%1.1f%%',\n",
    "        shadow=True, startangle=90)\n",
    "\n",
    "ax1.axis('equal')  # Equal aspect ratio ensures that pie is drawn as a circle.\n",
    "#plt.title('LSP Scoring', fontweight=\"bold\", fontsize=\"large\")\n",
    "\n",
    "plt.savefig(\"lsp_score_piechart.png\")"
   ]
  },
  {
   "cell_type": "code",
   "execution_count": 28,
   "metadata": {},
   "outputs": [],
   "source": [
    "\n",
    "\n",
    "\n",
    "\n",
    "fp = \"validation_dependency_scores.csv\""
   ]
  },
  {
   "cell_type": "code",
   "execution_count": 29,
   "metadata": {},
   "outputs": [
    {
     "name": "stdout",
     "output_type": "stream",
     "text": [
      "out of scope: 8.641975308641975 %\n",
      "Zeros: 19.753086419753085 %\n",
      "Ones: 35.80246913580247 %\n",
      "Empty: 35.80246913580247 %\n"
     ]
    }
   ],
   "source": [
    "# Calculate percentage of returned pobj that correctly identify at least one noun phrase \n",
    "\n",
    "\n",
    "df = pd.read_csv(fp, sep=',', error_bad_lines=False, index_col=False, dtype='unicode', encoding = \"ISO-8859-1\")\n",
    "\n",
    "\n",
    "df_pobj = df['pobj'].head(81)\n",
    "\n",
    "p_outOfScope, p_zeros, p_ones, p_twos = count(df_pobj)\n",
    "\n",
    "pobj_none = percent(p_outOfScope, df_pobj.shape[0])\n",
    "pobj_zero = percent(p_zeros, df_pobj.shape[0])\n",
    "pobj_one = percent(p_ones, df_pobj.shape[0])\n",
    "pobj_two = percent(p_twos, df_pobj.shape[0])\n",
    "\n",
    "print(\"out of scope: \"+str(pobj_none) + \" %\")\n",
    "print(\"Zeros: \"+str(pobj_zero)+\" %\")\n",
    "print(\"Ones: \"+str(pobj_one)+\" %\")\n",
    "print(\"Empty: \" + str(pobj_two)+\" %\")"
   ]
  },
  {
   "cell_type": "code",
   "execution_count": null,
   "metadata": {},
   "outputs": [],
   "source": []
  },
  {
   "cell_type": "code",
   "execution_count": 30,
   "metadata": {},
   "outputs": [
    {
     "name": "stdout",
     "output_type": "stream",
     "text": [
      "no score: 8.641975308641975 %\n",
      "Zeros: 7.4074074074074066 %\n",
      "Ones: 14.814814814814813 %\n",
      "Empty: 69.1358024691358 %\n"
     ]
    }
   ],
   "source": [
    "# Calculate percentage of returned dobj that correctly identify at least one noun phrase \n",
    "\n",
    "\n",
    "#df = pd.read_csv(fp, sep=',', error_bad_lines=False, index_col=False, dtype='unicode')\n",
    "\n",
    "\n",
    "df_dobj = df['dobj'].head(81)\n",
    "\n",
    "d_outOfScope, d_zeros, d_ones, d_twos = count(df_dobj)\n",
    "\n",
    "dobj_none = percent(d_outOfScope, df_dobj.shape[0])\n",
    "dobj_zero = percent(d_zeros, df_dobj.shape[0])\n",
    "dobj_one = percent(d_ones, df_dobj.shape[0])\n",
    "dobj_two = percent(d_twos, df_dobj.shape[0])\n",
    "\n",
    "print(\"no score: \"+str(dobj_none) + \" %\")\n",
    "print(\"Zeros: \"+str(dobj_zero)+\" %\")\n",
    "print(\"Ones: \"+str(dobj_one)+\" %\")\n",
    "print(\"Empty: \"+str(dobj_two)+\" %\")\n",
    "\n"
   ]
  },
  {
   "cell_type": "code",
   "execution_count": 31,
   "metadata": {},
   "outputs": [
    {
     "name": "stdout",
     "output_type": "stream",
     "text": [
      "no score: 8.641975308641975 %\n",
      "Zeros: 27.160493827160494 %\n",
      "Ones: 34.5679012345679 %\n",
      "Empty: 29.629629629629626 %\n"
     ]
    }
   ],
   "source": [
    "# Calculate percentage of returned roots that correctly identify at least one noun phrase \n",
    "\n",
    "\n",
    "#df = pd.read_csv(fp, sep=',', error_bad_lines=False, index_col=False, dtype='unicode')\n",
    "\n",
    "\n",
    "df_roots = df['Roots'].head(81)\n",
    "\n",
    "r_outOfScope, r_zeros, r_ones, r_twos = count(df_roots)\n",
    "\n",
    "root_none = percent(r_outOfScope, df_roots.shape[0])\n",
    "root_zero = percent(r_zeros, df_roots.shape[0])\n",
    "root_one = percent(r_ones, df_roots.shape[0])\n",
    "root_two = percent(r_twos, df_roots.shape[0])\n",
    "\n",
    "print(\"no score: \"+str(root_none) + \" %\")\n",
    "print(\"Zeros: \"+str(root_zero)+\" %\")\n",
    "print(\"Ones: \"+str(root_one)+\" %\")\n",
    "print(\"Empty: \"+str(root_two)+\" %\")\n"
   ]
  },
  {
   "cell_type": "code",
   "execution_count": null,
   "metadata": {},
   "outputs": [],
   "source": []
  },
  {
   "cell_type": "code",
   "execution_count": null,
   "metadata": {},
   "outputs": [],
   "source": []
  },
  {
   "cell_type": "code",
   "execution_count": 145,
   "metadata": {},
   "outputs": [
    {
     "data": {
      "image/png": "[encoded data removed]",
      "text/plain": [
       "<Figure size 432x288 with 1 Axes>"
      ]
     },
     "metadata": {
      "needs_background": "light"
     },
     "output_type": "display_data"
    }
   ],
   "source": [
    " \n",
    "# y-axis in bold\n",
    "rc('font', weight='bold')\n",
    " \n",
    "# Values of each group\n",
    "# bars1 = [pobj_one, dobj_one, root_one]\n",
    "# bars2 = [pobj_zero, dobj_zero, root_zero]\n",
    "# bars3 = [pobj_two, dobj_two, root_two]\n",
    "bars1 = [p_ones, d_ones, r_ones]\n",
    "bars2 = [p_zeros, d_zeros, r_zeros]\n",
    "bars3 = [p_twos, d_twos, r_twos]\n",
    " \n",
    "# Heights of bars1 + bars2\n",
    "bars = np.add(bars1, bars2).tolist()\n",
    " \n",
    "# The position of the bars on the x-axis\n",
    "r = [0,1,2]\n",
    " \n",
    "# Names of group and bar width\n",
    "names = ['pobj','dobj','root']\n",
    "barWidth = .5\n",
    " \n",
    "# Create brown bars\n",
    "p1 = plt.bar(r, bars1, color='#2BA02D', edgecolor='white', width=barWidth)\n",
    "# Create green bars (middle), on top of the firs ones\n",
    "p2 = plt.bar(r, bars2, bottom=bars1, color='#D62628', edgecolor='white', width=barWidth)\n",
    "# Create green bars (top)\n",
    "p3 = plt.bar(r, bars3, bottom=bars, color='slategrey', edgecolor='white', width=barWidth)\n",
    " \n",
    "# Custom X axis\n",
    "plt.title(\"Dependency Type as a Purpose Indicator\", fontweight='bold')\n",
    "plt.xticks(r, names, fontweight='bold')\n",
    "plt.xlabel(\"dependency type\")\n",
    "plt.ylabel(\"percentage\")\n",
    "plt.legend((p1[0], p2[0], p3[0]), ( 'Correct', 'Incorrect', 'Empty'))\n",
    "\n",
    "# Show graphic\n",
    "plt.savefig(\"stacked_bar_chart_dependency_indicator.png\")\n",
    "\n"
   ]
  },
  {
   "cell_type": "code",
   "execution_count": 46,
   "metadata": {},
   "outputs": [
    {
     "data": {
      "image/png": "[encoded data removed]",
      "text/plain": [
       "<Figure size 432x288 with 1 Axes>"
      ]
     },
     "metadata": {
      "needs_background": "light"
     },
     "output_type": "display_data"
    }
   ],
   "source": [
    " \n",
    "# y-axis in bold\n",
    "rc('font', weight='bold')\n",
    " \n",
    "# Values of each group\n",
    "bars1 = [pobj_one, dobj_one, root_one]\n",
    "bars2 = [pobj_zero, dobj_zero, root_zero]\n",
    "bars3 = [pobj_two, dobj_two, root_two]\n",
    " \n",
    "# Heights of bars1 + bars2\n",
    "bars = np.add(bars1, bars2).tolist()\n",
    " \n",
    "# The position of the bars on the x-axis\n",
    "r = [0,1,2]\n",
    " \n",
    "# Names of group and bar width\n",
    "names = ['pobj','dobj','root']\n",
    "barWidth = .5\n",
    " \n",
    "# Create brown bars\n",
    "p1 = plt.bar(r, bars1, color='palegreen', edgecolor='white', width=barWidth)\n",
    "# Create green bars (middle), on top of the firs ones\n",
    "p2 = plt.bar(r, bars2, bottom=bars1, color='red', edgecolor='white', width=barWidth)\n",
    "# Create green bars (top)\n",
    "p3 = plt.bar(r, bars3, bottom=bars, color='slategrey', edgecolor='white', width=barWidth)\n",
    " \n",
    "# Custom X axis\n",
    "plt.title(\"Dependency Type as a Purpose Indicator\", fontweight='bold')\n",
    "plt.xticks(r, names, fontweight='bold')\n",
    "plt.xlabel(\"dependency type\")\n",
    "plt.ylabel(\"percentage\")\n",
    "plt.legend((p1[0], p2[0], p3[0]), ( 'Correct', 'Incorrect', 'Empty'))\n",
    "\n",
    "# Show graphic\n",
    "plt.show()\n",
    "\n"
   ]
  },
  {
   "cell_type": "code",
   "execution_count": 58,
   "metadata": {},
   "outputs": [],
   "source": [
    "df = df.head(81)"
   ]
  },
  {
   "cell_type": "code",
   "execution_count": 70,
   "metadata": {},
   "outputs": [
    {
     "data": {
      "text/html": [
       "<div>\n",
       "<style scoped>\n",
       "    .dataframe tbody tr th:only-of-type {\n",
       "        vertical-align: middle;\n",
       "    }\n",
       "\n",
       "    .dataframe tbody tr th {\n",
       "        vertical-align: top;\n",
       "    }\n",
       "\n",
       "    .dataframe thead th {\n",
       "        text-align: right;\n",
       "    }\n",
       "</style>\n",
       "<table border=\"1\" class=\"dataframe\">\n",
       "  <thead>\n",
       "    <tr style=\"text-align: right;\">\n",
       "      <th></th>\n",
       "      <th>Repository</th>\n",
       "      <th>pobj</th>\n",
       "      <th>dobj</th>\n",
       "      <th>Roots</th>\n",
       "      <th>Description</th>\n",
       "      <th>New Description</th>\n",
       "    </tr>\n",
       "  </thead>\n",
       "  <tbody>\n",
       "    <tr>\n",
       "      <th>0</th>\n",
       "      <td>AgilTec/cadenero</td>\n",
       "      <td>1</td>\n",
       "      <td>2</td>\n",
       "      <td>0</td>\n",
       "      <td>Rails.API Authentication Engine for multitenan...</td>\n",
       "      <td>Ruby implementation of a Ruby on Rails API Aut...</td>\n",
       "    </tr>\n",
       "    <tr>\n",
       "      <th>1</th>\n",
       "      <td>brenoc/opentracks</td>\n",
       "      <td>1</td>\n",
       "      <td>2</td>\n",
       "      <td>0</td>\n",
       "      <td>A Flask/Python client for Open-Transactions.</td>\n",
       "      <td>Python implementated Flask microweb client for...</td>\n",
       "    </tr>\n",
       "    <tr>\n",
       "      <th>2</th>\n",
       "      <td>onaio/onadata</td>\n",
       "      <td>2</td>\n",
       "      <td>2</td>\n",
       "      <td>2</td>\n",
       "      <td>Collect, Analyze and Share</td>\n",
       "      <td>Python implemented platform for data collectio...</td>\n",
       "    </tr>\n",
       "    <tr>\n",
       "      <th>3</th>\n",
       "      <td>alu0100536829/prct11</td>\n",
       "      <td>NaN</td>\n",
       "      <td>NaN</td>\n",
       "      <td>NaN</td>\n",
       "      <td>NaN</td>\n",
       "      <td>NaN</td>\n",
       "    </tr>\n",
       "    <tr>\n",
       "      <th>4</th>\n",
       "      <td>clementine-player/Android-Remote</td>\n",
       "      <td>0</td>\n",
       "      <td>2</td>\n",
       "      <td>1</td>\n",
       "      <td>Control Clementine from your Android device</td>\n",
       "      <td>Java implemented android application for remot...</td>\n",
       "    </tr>\n",
       "  </tbody>\n",
       "</table>\n",
       "</div>"
      ],
      "text/plain": [
       "                         Repository pobj dobj Roots  \\\n",
       "0                  AgilTec/cadenero    1    2     0   \n",
       "1                 brenoc/opentracks    1    2     0   \n",
       "2                     onaio/onadata    2    2     2   \n",
       "3              alu0100536829/prct11  NaN  NaN   NaN   \n",
       "4  clementine-player/Android-Remote    0    2     1   \n",
       "\n",
       "                                         Description  \\\n",
       "0  Rails.API Authentication Engine for multitenan...   \n",
       "1       A Flask/Python client for Open-Transactions.   \n",
       "2                         Collect, Analyze and Share   \n",
       "3                                                NaN   \n",
       "4        Control Clementine from your Android device   \n",
       "\n",
       "                                    New Description   \n",
       "0  Ruby implementation of a Ruby on Rails API Aut...  \n",
       "1  Python implementated Flask microweb client for...  \n",
       "2  Python implemented platform for data collectio...  \n",
       "3                                                NaN  \n",
       "4  Java implemented android application for remot...  "
      ]
     },
     "execution_count": 70,
     "metadata": {},
     "output_type": "execute_result"
    }
   ],
   "source": [
    "df.head(5)"
   ]
  },
  {
   "cell_type": "code",
   "execution_count": 93,
   "metadata": {},
   "outputs": [
    {
     "data": {
      "text/plain": [
       "'New way to watch video!'"
      ]
     },
     "execution_count": 93,
     "metadata": {},
     "output_type": "execute_result"
    }
   ],
   "source": [
    "df['Description'][5]"
   ]
  },
  {
   "cell_type": "code",
   "execution_count": 94,
   "metadata": {},
   "outputs": [
    {
     "data": {
      "text/plain": [
       "'Python powered desktop application for streaming pre-downloaded content through the Bittorent communication protocal.'"
      ]
     },
     "execution_count": 94,
     "metadata": {},
     "output_type": "execute_result"
    }
   ],
   "source": [
    "df['New Description '][5]"
   ]
  },
  {
   "cell_type": "code",
   "execution_count": 92,
   "metadata": {},
   "outputs": [
    {
     "data": {
      "text/plain": [
       "'rafallo/p2c'"
      ]
     },
     "execution_count": 92,
     "metadata": {},
     "output_type": "execute_result"
    }
   ],
   "source": [
    "df['Repository'][5]"
   ]
  },
  {
   "cell_type": "code",
   "execution_count": null,
   "metadata": {},
   "outputs": [],
   "source": []
  }
 ],
 "metadata": {
  "kernelspec": {
   "display_name": "Python 3",
   "language": "python",
   "name": "python3"
  },
  "language_info": {
   "codemirror_mode": {
    "name": "ipython",
    "version": 3
   },
   "file_extension": ".py",
   "mimetype": "text/x-python",
   "name": "python",
   "nbconvert_exporter": "python",
   "pygments_lexer": "ipython3",
   "version": "3.7.3"
  }
 },
 "nbformat": 4,
 "nbformat_minor": 2
}
